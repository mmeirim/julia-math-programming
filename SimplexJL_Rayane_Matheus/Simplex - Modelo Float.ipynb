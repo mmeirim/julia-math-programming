{
 "cells": [
  {
   "cell_type": "code",
   "execution_count": null,
   "metadata": {},
   "outputs": [],
   "source": [
    "function simplex(A::Matrix{Float64}, b::Vector{Float64}, c::Vector{Float64})\n",
    "    x = zeros(Float64, length(c))\n",
    "    \n",
    "    # SIMPLEX!\n",
    "    \n",
    "    if # Solução ótima\n",
    "        return objective_value, x\n",
    "    elseif # Solução ilimitada\n",
    "        return Inf64, nothing\n",
    "    else # Solução inviável\n",
    "        return nothing, nothing\n",
    "    end\n",
    "end"
   ]
  },
  {
   "cell_type": "code",
   "execution_count": null,
   "metadata": {},
   "outputs": [],
   "source": [
    "# Problema do slide do Simplex\n",
    "A = [\n",
    "    2.0 1.0\n",
    "    1.0 2.0\n",
    "]\n",
    "b = [ 4.0, 4.0 ]\n",
    "c = [ 4.0, 3.0 ]\n",
    "\n",
    "simplex(A, b, c)"
   ]
  }
 ],
 "metadata": {
  "kernelspec": {
   "display_name": "Julia 1.7.2",
   "language": "julia",
   "name": "julia-1.7"
  },
  "language_info": {
   "file_extension": ".jl",
   "mimetype": "application/julia",
   "name": "julia",
   "version": "1.7.2"
  }
 },
 "nbformat": 4,
 "nbformat_minor": 4
}

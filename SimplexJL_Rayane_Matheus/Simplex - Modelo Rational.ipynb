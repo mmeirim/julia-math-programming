{
 "cells": [
  {
   "cell_type": "code",
   "execution_count": 1,
   "metadata": {},
   "outputs": [],
   "source": [
    "using LinearAlgebra, Combinatorics, Printf"
   ]
  },
  {
   "cell_type": "code",
   "execution_count": 11,
   "metadata": {},
   "outputs": [
    {
     "data": {
      "text/plain": [
       "is_optimal (generic function with 1 method)"
      ]
     },
     "execution_count": 11,
     "metadata": {},
     "output_type": "execute_result"
    }
   ],
   "source": [
    "  mutable struct SimplexTableau\n",
    "    z_c     ::Array{Rational{Int64}} # z_j - c_j\n",
    "    Y       ::Array{Rational{Int64}} # inv(B) * A\n",
    "    x_B     ::Array{Rational{Int64}} # inv(B) * b\n",
    "    obj     ::Rational{Int64}        # c_B * x_B\n",
    "    b_idx   ::Array{Int64}   # indices for basic variables x_B\n",
    "  end\n",
    "\n",
    "  function is_nonnegative(x::Vector)\n",
    "    return length( x[ x .< 0] ) == 0\n",
    "  end\n",
    "\n",
    "  function is_nonnegativearray(z::Array)\n",
    "    return length( z[ z .< 0] ) == 0\n",
    "  end\n",
    "\n",
    "  function initial_BFS(A, b)\n",
    "    m, n = size(A)\n",
    "\n",
    "    comb = collect(combinations(1:n, m))\n",
    "    for i in length(comb):-1:1\n",
    "      b_idx = comb[i]\n",
    "      B = A[:, b_idx]\n",
    "      x_B = inv(B) * b\n",
    "      if is_nonnegative(x_B)\n",
    "        return b_idx, x_B, B\n",
    "      end\n",
    "    end\n",
    "\n",
    "    error(\"Infeasible\")\n",
    "  end\n",
    "\n",
    "  function print_tableau(t::SimplexTableau)\n",
    "    m, n = size(t.Y)\n",
    "\n",
    "    hline0 = repeat(\"-\", 6)\n",
    "    hline1 = repeat(\"-\", 7*n)\n",
    "    hline2 = repeat(\"-\", 7)\n",
    "    hline = join([hline0, \"+\", hline1, \"+\", hline2])\n",
    "\n",
    "    println(hline)\n",
    "\n",
    "    @printf(\"%6s|\", \"\")\n",
    "    for j in 1:length(t.z_c)\n",
    "      @printf(\"%6s \", string(t.z_c[j]))\n",
    "    end\n",
    "    @printf(\"| %6s\\n\", string(t.obj))\n",
    "\n",
    "    println(hline)\n",
    "\n",
    "    for i in 1:m\n",
    "      @printf(\"x[%2d] |\", t.b_idx[i])\n",
    "      for j in 1:n\n",
    "        @printf(\"%6s \", string(t.Y[i,j]))\n",
    "      end\n",
    "      @printf(\"| %6s\\n\", string(t.x_B[i]))\n",
    "    end\n",
    "\n",
    "    println(hline)\n",
    "  end\n",
    "\n",
    "  function pivoting!(t::SimplexTableau)\n",
    "    m, n = size(t.Y)\n",
    "\n",
    "    entering, exiting = pivot_point(t)\n",
    "    println(\"Pivoting: entering = x_$entering, exiting = x_$(t.b_idx[exiting])\")\n",
    "\n",
    "    # Pivoting: exiting-row, entering-column\n",
    "    # updating exiting-row\n",
    "    coef = t.Y[exiting, entering]\n",
    "    t.Y[exiting, :] /= coef\n",
    "    t.x_B[exiting] /= coef\n",
    "\n",
    "    # updating other rows of Y\n",
    "    for i in setdiff(1:m, exiting)\n",
    "      coef = t.Y[i, entering]\n",
    "      t.Y[i, :] -= coef * t.Y[exiting, :]\n",
    "      t.x_B[i] -= coef * t.x_B[exiting]\n",
    "    end\n",
    "\n",
    "    # updating the row for the reduced costs\n",
    "    coef = t.z_c[entering]\n",
    "    t.z_c -= coef * t.Y[exiting, :]'\n",
    "    t.obj -= coef * t.x_B[exiting]\n",
    "\n",
    "    # Updating b_idx\n",
    "    t.b_idx[ findfirst(t.b_idx .== t.b_idx[exiting]) ] = entering\n",
    "  end\n",
    "\n",
    "  function pivot_point(t::SimplexTableau)\n",
    "    # Finding the entering variable index\n",
    "    entering = findfirst( t.z_c .< 0)[2]\n",
    "    if entering == 0\n",
    "      error(\"Optimal\")\n",
    "    end\n",
    "\n",
    "    # min ratio test / finding the exiting variable index\n",
    "    pos_idx = findall( t.Y[:, entering] .> 0 )\n",
    "    if length(pos_idx) == 0\n",
    "      error(\"Unbounded\")\n",
    "    end\n",
    "    exiting = pos_idx[ argmin( t.x_B[pos_idx] ./ t.Y[pos_idx, entering] ) ]\n",
    "\n",
    "    return entering, exiting\n",
    "  end\n",
    "\n",
    "  function initialize(c, A, b)\n",
    "    c = Array{Rational{Int64}}(c)\n",
    "    A = Array{Rational{Int64}}(A)\n",
    "    b = Array{Rational{Int64}}(b)\n",
    "\n",
    "    m, n = size(A)\n",
    "\n",
    "    # Finding an initial BFS\n",
    "    b_idx, x_B, B = initial_BFS(A,b)\n",
    "    \n",
    "    Y = inv(B) * A\n",
    "    c_B = c[b_idx]\n",
    "    obj = dot(c_B, x_B)\n",
    "\n",
    "    # z_c is a row vector\n",
    "    z_c = zeros(1,n)\n",
    "    n_idx = setdiff(1:n, b_idx)\n",
    "    z_c[n_idx] = c_B' * inv(B) * A[:,n_idx] - c[n_idx]'\n",
    "    return SimplexTableau(z_c, Y, x_B, obj, b_idx)\n",
    "  end\n",
    "\n",
    "  function is_optimal(t::SimplexTableau)\n",
    "    return is_nonnegativearray(t.z_c)\n",
    "  end"
   ]
  },
  {
   "cell_type": "code",
   "execution_count": 13,
   "metadata": {},
   "outputs": [
    {
     "data": {
      "text/plain": [
       "simplex (generic function with 1 method)"
      ]
     },
     "execution_count": 13,
     "metadata": {},
     "output_type": "execute_result"
    }
   ],
   "source": [
    "function simplex(A::Matrix{Rational{Int64}}, b::Vector{Rational{Int64}}, c::Vector{Rational{Int64}})\n",
    "    x = zeros(Rational{Int64}, length(c))\n",
    "    \n",
    "    # SIMPLEX!\n",
    "    \n",
    "    tableau = initialize(c, A, b)\n",
    "    print_tableau(tableau)\n",
    "\n",
    "    while !is_optimal(tableau)\n",
    "      pivoting!(tableau)\n",
    "      print_tableau(tableau)\n",
    "    end\n",
    "\n",
    "    opt_x = zeros(Rational{Int64},length(c))\n",
    "    opt_x[tableau.b_idx] = tableau.x_B\n",
    "\n",
    "    return opt_x, tableau.obj        \n",
    "end"
   ]
  },
  {
   "cell_type": "code",
   "execution_count": 14,
   "metadata": {},
   "outputs": [
    {
     "name": "stdout",
     "output_type": "stream",
     "text": [
      "------+----------------------------+-------\n",
      "      | -3//1  -1//1   0//1   0//1 |   0//1\n",
      "------+----------------------------+-------\n",
      "x[ 3] |  2//1   1//1   1//1   0//1 |   6//1\n",
      "x[ 4] |  1//1   3//1   0//1   1//1 |   9//1\n",
      "------+----------------------------+-------\n",
      "Pivoting: entering = x_1, exiting = x_3\n",
      "------+----------------------------+-------\n",
      "      |  0//1   1//2   3//2   0//1 |   9//1\n",
      "------+----------------------------+-------\n",
      "x[ 1] |  1//1   1//2   1//2   0//1 |   3//1\n",
      "x[ 4] |  0//1   5//2  -1//2   1//1 |   6//1\n",
      "------+----------------------------+-------\n"
     ]
    },
    {
     "data": {
      "text/plain": [
       "(Rational{Int64}[3//1, 0//1, 0//1, 6//1], 9//1)"
      ]
     },
     "execution_count": 14,
     "metadata": {},
     "output_type": "execute_result"
    }
   ],
   "source": [
    "# Problema do slide do Simplex\n",
    "# A = [\n",
    "#     2//1 1//1\n",
    "#     1//1 2//1\n",
    "# ]\n",
    "# b = [ 4//1, 4//1 ]\n",
    "# c = [ 4//1, 3//1 ]\n",
    "\n",
    "A = [\n",
    "    2//1 1//1 1//1 0//1;\n",
    "    1//1 3//1 0//1 1//1;\n",
    "]\n",
    "b = [ 6//1, 9//1]\n",
    "c = [ 3//1, 1//1, 0//1, 0//1]\n",
    "simplex(A, b, c)"
   ]
  }
 ],
 "metadata": {
  "kernelspec": {
   "display_name": "Julia 1.6.0",
   "language": "julia",
   "name": "julia-1.6"
  },
  "language_info": {
   "file_extension": ".jl",
   "mimetype": "application/julia",
   "name": "julia",
   "version": "1.6.0"
  }
 },
 "nbformat": 4,
 "nbformat_minor": 4
}

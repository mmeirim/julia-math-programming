{
 "cells": [
  {
   "cell_type": "code",
   "execution_count": null,
   "metadata": {},
   "outputs": [],
   "source": [
    "function simplex(A::Matrix{Rational{Int64}}, b::Vector{Rational{Int64}}, c::Vector{Rational{Int64}}, s::Vector{String})\n",
    "    x = zeros(Rational{Int64}, length(c))\n",
    "    \n",
    "    # SIMPLEX DUAS FASES!\n",
    "    \n",
    "    return x\n",
    "end"
   ]
  },
  {
   "cell_type": "code",
   "execution_count": null,
   "metadata": {},
   "outputs": [],
   "source": [
    "# Problema do slide do Simplex Duas Fases\n",
    "A = [\n",
    "    1//1  1//1 1//1\n",
    "    1//1 -1//1 0//1\n",
    "    2//1  3//1 1//1\n",
    "]\n",
    "b = [ 10//1, 1//1, 20//1 ]\n",
    "c = [ 4//1, 5//1, -3//1 ]\n",
    "s = [ \"≤\", \"≥\", \"=\" ]\n",
    "\n",
    "simplex(A, b, c, s)"
   ]
  },
  {
   "cell_type": "code",
   "execution_count": null,
   "metadata": {},
   "outputs": [],
   "source": []
  }
 ],
 "metadata": {
  "kernelspec": {
   "display_name": "Julia 1.7.2",
   "language": "julia",
   "name": "julia-1.7"
  },
  "language_info": {
   "file_extension": ".jl",
   "mimetype": "application/julia",
   "name": "julia",
   "version": "1.7.2"
  }
 },
 "nbformat": 4,
 "nbformat_minor": 4
}

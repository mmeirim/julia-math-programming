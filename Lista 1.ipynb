{
 "cells": [
  {
   "cell_type": "code",
   "execution_count": 1,
   "id": "f76cbd12",
   "metadata": {},
   "outputs": [],
   "source": [
    "using JuMP, GLPK"
   ]
  },
  {
   "cell_type": "code",
   "execution_count": 90,
   "id": "53b915f3",
   "metadata": {},
   "outputs": [
    {
     "data": {
      "text/plain": [
       "3-element Vector{String}:\n",
       " \"≤\"\n",
       " \"≤\"\n",
       " \"≤\""
      ]
     },
     "execution_count": 90,
     "metadata": {},
     "output_type": "execute_result"
    }
   ],
   "source": [
    "nvar = 2\n",
    "nrest = 2\n",
    "indices = [\n",
    "    2 1 6;\n",
    "    1 3 9;\n",
    "    3 1 0; #F.O\n",
    "]\n",
    "sinal = [\n",
    "    \"≤\",\n",
    "    \"≤\",\n",
    "    \"≤\",\n",
    "]"
   ]
  },
  {
   "cell_type": "code",
   "execution_count": 93,
   "id": "48e49536",
   "metadata": {},
   "outputs": [
    {
     "data": {
      "text/latex": [
       "$$ \\begin{aligned}\n",
       "\\max\\quad & 3 x_{1} + x_{2}\\\\\n",
       "\\text{Subject to} \\quad & 2 x_{1} + x_{2} \\leq 6.0\\\\\n",
       " & x_{1} + 3 x_{2} \\leq 9.0\\\\\n",
       " & x_{1} \\geq 0.0\\\\\n",
       " & x_{2} \\geq 0.0\\\\\n",
       "\\end{aligned} $$"
      ]
     },
     "metadata": {},
     "output_type": "display_data"
    },
    {
     "name": "stdout",
     "output_type": "stream",
     "text": [
      "\n",
      "Solution is optimal\n",
      "z = 9.0\n",
      "x[1] = 3.0\n",
      "x[2] = 0.0\n"
     ]
    }
   ],
   "source": [
    "model = Model(GLPK.Optimizer)\n",
    "\n",
    "@variables(model,\n",
    "begin\n",
    "    x[1:nvar] ≥ 0\n",
    "end)\n",
    "\n",
    "for i in 1:nrest\n",
    "    if sinal[i] == \"≤\"\n",
    "        @constraint(model, sum(indices[i,j]*x[j] for j in 1:nvar) ≤ indices[i,end])\n",
    "    elseif sinal[i] == \"≥\"\n",
    "        @constraint(model, sum(indices[i,j]*x[j] for j in 1:nvar) ≥ indices[i,end])   \n",
    "    end\n",
    "end\n",
    "    \n",
    "@objective(model, Max, sum(x[i]*(indices[end,i]) for i = 1:nvar))\n",
    "print(model)\n",
    "optimize!(model)\n",
    "println()\n",
    "println(raw_status(model))\n",
    "println(\"z = \", objective_value(model))\n",
    "for j in 1:nvar\n",
    "    println(\"x[$j] = \", value(x[j]))\n",
    "end"
   ]
  }
 ],
 "metadata": {
  "kernelspec": {
   "display_name": "Julia 1.6.0",
   "language": "julia",
   "name": "julia-1.6"
  },
  "language_info": {
   "file_extension": ".jl",
   "mimetype": "application/julia",
   "name": "julia",
   "version": "1.6.0"
  }
 },
 "nbformat": 4,
 "nbformat_minor": 5
}

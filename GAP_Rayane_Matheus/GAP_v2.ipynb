{
 "cells": [
  {
   "cell_type": "markdown",
   "metadata": {},
   "source": [
    "Instalação (rodar apenas uma vez):"
   ]
  },
  {
   "cell_type": "code",
   "execution_count": 1,
   "metadata": {
    "tags": []
   },
   "outputs": [
    {
     "name": "stderr",
     "output_type": "stream",
     "text": [
      "\u001b[32m\u001b[1m     Cloning\u001b[22m\u001b[39m git-repo `https://github.com/rafaelmartinelli/AssignmentProblems.jl`\n",
      "\u001b[32m\u001b[1m    Updating\u001b[22m\u001b[39m git-repo `https://github.com/rafaelmartinelli/AssignmentProblems.jl`\n",
      "\u001b[32m\u001b[1m    Updating\u001b[22m\u001b[39m registry at `C:\\Users\\Rayane Costa\\.julia\\registries\\General.toml`\n",
      "\u001b[32m\u001b[1m   Resolving\u001b[22m\u001b[39m package versions...\n",
      "\u001b[32m\u001b[1m   Installed\u001b[22m\u001b[39m ZipFile ─ v0.9.4\n",
      "\u001b[32m\u001b[1m    Updating\u001b[22m\u001b[39m `C:\\Users\\Rayane Costa\\.julia\\environments\\v1.7\\Project.toml`\n",
      " \u001b[90m [0ddd3828] \u001b[39m\u001b[92m+ AssignmentProblems v1.0.0 `https://github.com/rafaelmartinelli/AssignmentProblems.jl#main`\u001b[39m\n",
      "\u001b[32m\u001b[1m    Updating\u001b[22m\u001b[39m `C:\\Users\\Rayane Costa\\.julia\\environments\\v1.7\\Manifest.toml`\n",
      " \u001b[90m [0ddd3828] \u001b[39m\u001b[92m+ AssignmentProblems v1.0.0 `https://github.com/rafaelmartinelli/AssignmentProblems.jl#main`\u001b[39m\n",
      " \u001b[90m [a5390f91] \u001b[39m\u001b[92m+ ZipFile v0.9.4\u001b[39m\n",
      "\u001b[32m\u001b[1mPrecompiling\u001b[22m\u001b[39m project...\n",
      "\u001b[32m  ✓ \u001b[39m\u001b[90mZipFile\u001b[39m\n",
      "\u001b[32m  ✓ \u001b[39mAssignmentProblems\n",
      "  2 dependencies successfully precompiled in 3 seconds (50 already precompiled)\n"
     ]
    }
   ],
   "source": [
    "] add https://github.com/rafaelmartinelli/AssignmentProblems.jl"
   ]
  },
  {
   "cell_type": "code",
   "execution_count": 5,
   "metadata": {},
   "outputs": [
    {
     "name": "stderr",
     "output_type": "stream",
     "text": [
      "\u001b[32m\u001b[1m   Resolving\u001b[22m\u001b[39m package versions...\n",
      "\u001b[32m\u001b[1m  No Changes\u001b[22m\u001b[39m to `C:\\Users\\Rayane Costa\\.julia\\environments\\v1.7\\Project.toml`\n",
      "\u001b[32m\u001b[1m  No Changes\u001b[22m\u001b[39m to `C:\\Users\\Rayane Costa\\.julia\\environments\\v1.7\\Manifest.toml`\n"
     ]
    },
    {
     "ename": "LoadError",
     "evalue": "syntax: invalid \"using\" statement: expected identifier",
     "output_type": "error",
     "traceback": [
      "syntax: invalid \"using\" statement: expected identifier",
      "",
      "Stacktrace:",
      " [1] top-level scope",
      "   @ In[5]:3",
      " [2] eval",
      "   @ .\\boot.jl:373 [inlined]",
      " [3] include_string(mapexpr::typeof(REPL.softscope), mod::Module, code::String, filename::String)",
      "   @ Base .\\loading.jl:1196"
     ]
    }
   ],
   "source": [
    "import Pkg\n",
    "Pkg.add(\"Gurobi\")\n"
   ]
  },
  {
   "cell_type": "markdown",
   "metadata": {},
   "source": [
    "Carregamento de instância:"
   ]
  },
  {
   "cell_type": "code",
   "execution_count": 25,
   "metadata": {},
   "outputs": [
    {
     "data": {
      "text/plain": [
       "GAP Data e201600 (20 agents, 1600 jobs) [180644, 180646]"
      ]
     },
     "execution_count": 25,
     "metadata": {},
     "output_type": "execute_result"
    }
   ],
   "source": [
    "using AssignmentProblems, JuMP, Gurobi\n",
    "\n",
    "datat = loadAssignmentProblem(:e201600)\n",
    "# datat = loadAssignmentProblem(:a05200)\n",
    "# datat = loadAssignmentProblem(:a10100)\n",
    "# datat = loadAssignmentProblem(:a10200)\n",
    "# datat = loadAssignmentProblem(:a20100)\n",
    "# datat = loadAssignmentProblem(:a20200)"
   ]
  },
  {
   "cell_type": "markdown",
   "metadata": {},
   "source": [
    "Sugestão de estrutura de testes:"
   ]
  },
  {
   "cell_type": "code",
   "execution_count": 26,
   "metadata": {},
   "outputs": [
    {
     "name": "stdout",
     "output_type": "stream",
     "text": [
      "e201600\n",
      "Set parameter Username\r\n",
      "Academic license - for non-commercial use only - expires 2023-06-06\r\n",
      "Set parameter Threads to value 1\r\n",
      "Set parameter TimeLimit to value 300\r\n",
      "(180643.0, 180661.0, 50.05135154724121)\n",
      "\n",
      "\n"
     ]
    }
   ],
   "source": [
    "function resolveGAP(data::AssignmentProblem)\n",
    "    model = Model(optimizer_with_attributes(Gurobi.Optimizer, \"Threads\" => 1))\n",
    "    set_time_limit_sec(model, 300.0)\n",
    "    set_silent(model)\n",
    "    \n",
    "    #resolve o modelo\n",
    "    @variable(model, x[m in 1:na(data), j in 1:nj(data)], Bin);\n",
    "    @constraint(model, cov[j in 1:nj(data)], sum(x[m, j] for m in 1:na(data)) >= 1);\n",
    "    @constraint(model, knp[m in 1:na(data)], sum(data.consumptions[m, j] * x[m, j] for j in 1:nj(data)) <= data.capacities[m]);\n",
    "    @objective(model, Min, sum(data.costs[m, j] * x[m, j] for m in 1:na(data), j in 1:nj(data)));\n",
    "    \n",
    "    #t = time()\n",
    "    optimize!(model)\n",
    "    #dt = time() - t\n",
    "    \n",
    "    lb = objective_bound(model)\n",
    "    ub = objective_value(model) \n",
    "    tempo = solve_time(model)\n",
    "    return lb, ub, tempo\n",
    "end\n",
    "\n",
    "instancias = [\n",
    "    \"a05100\",\n",
    "    \"a05200\",\n",
    "    \"a10100\",\n",
    "    \"a10200\",\n",
    "    \"a20100\",\n",
    "    \"a20200\",\n",
    "    \"b05100\",\n",
    "    \"b05200\",\n",
    "    \"b10100\",\n",
    "    \"b10200\",\n",
    "    \"b20100\",\n",
    "    \"b20200\",\n",
    "    \"c05100\",\n",
    "    \"c0515_1\",\n",
    "    \"c0515_2\",\n",
    "    \"c0515_3\",\n",
    "    \"c0515_4\",\n",
    "    \"c0515_5\",\n",
    "    \"c05200\",\n",
    "    \"c0520_1\",\n",
    "    \"c0520_2\",\n",
    "    \"c0520_3\",\n",
    "    \"c0520_4\",\n",
    "    \"c0520_5\",\n",
    "    \"c0525_1\",\n",
    "    \"c0525_2\",\n",
    "    \"c0525_3\",\n",
    "    \"c0525_4\",\n",
    "    \"c0525_5\",\n",
    "    \"c0530_1\",\n",
    "    \"c0530_2\",\n",
    "    \"c0530_3\",\n",
    "    \"c0530_4\",\n",
    "    \"c0530_5\",\n",
    "    \"c0824_1\",\n",
    "    \"c0824_2\",\n",
    "    \"c0824_3\",\n",
    "    \"c0824_4\",\n",
    "    \"c0824_5\",\n",
    "    \"c0832_1\",\n",
    "    \"c0832_2\",\n",
    "    \"c0832_3\",\n",
    "    \"c0832_4\",\n",
    "    \"c0832_5\",\n",
    "    \"c0840_1\",\n",
    "    \"c0840_2\",\n",
    "    \"c0840_3\",\n",
    "    \"c0840_4\",\n",
    "    \"c0840_5\",\n",
    "    \"c0848_1\",\n",
    "    \"c0848_2\",\n",
    "    \"c0848_3\",\n",
    "    \"c0848_4\",\n",
    "    \"c0848_5\",\n",
    "    \"c10100\",\n",
    "    \"c10200\",\n",
    "    \"c1030_1\",\n",
    "    \"c1030_2\",\n",
    "    \"c1030_3\",\n",
    "    \"c1030_4\",\n",
    "    \"c1030_5\",\n",
    "    \"c10400\",\n",
    "    \"c1040_1\",\n",
    "    \"c1040_2\",\n",
    "    \"c1040_3\",\n",
    "    \"c1040_4\",\n",
    "    \"c1040_5\",\n",
    "    \"c1050_1\",\n",
    "    \"c1050_2\",\n",
    "    \"c1050_3\",\n",
    "    \"c1050_4\",\n",
    "    \"c1050_5\",\n",
    "    \"c1060_1\",\n",
    "    \"c1060_2\",\n",
    "    \"c1060_3\",\n",
    "    \"c1060_4\",\n",
    "    \"c1060_5\",\n",
    "    \"c15900\",\n",
    "    \"c20100\",\n",
    "    \"c201600\",\n",
    "    \"c20200\",\n",
    "    \"c20400\",\n",
    "    \"c30900\",\n",
    "    \"c401600\",\n",
    "    \"c40400\",\n",
    "    \"c60900\",\n",
    "    \"c801600\",\n",
    "    \"d05100\",\n",
    "    \"d05200\",\n",
    "    \"d10100\",\n",
    "    \"d10200\",\n",
    "    \"d10400\",\n",
    "    \"d15900\",\n",
    "    \"d20100\",\n",
    "    \"d201600\",\n",
    "    \"d20200\",\n",
    "    \"d20400\",\n",
    "    \"d30900\",\n",
    "    \"d401600\",\n",
    "    \"d40400\",\n",
    "    \"d60900\",\n",
    "    \"d801600\",\n",
    "    \"e05100\",\n",
    "    \"e05200\",\n",
    "    \"e10100\",\n",
    "    \"e10200\",\n",
    "    \"e10400\",\n",
    "    \"e15900\",\n",
    "    \"e20100\",\n",
    "    \"e201600\",\n",
    "    \"e20200\",\n",
    "    \"e20400\",\n",
    "    \"e30900\",\n",
    "    \"e401600\",\n",
    "    \"e40400\",\n",
    "    \"e60900\",\n",
    "    \"e801600\"\n",
    "]\n",
    "\n",
    "i=1\n",
    "\n",
    "for instancia in instancias\n",
    "    data = loadAssignmentProblem(Symbol(instancia))\n",
    "    println(instancias[i])\n",
    "    println(resolveGAP(data))\n",
    "    println(\"\\n\")\n",
    "    i=i+1\n",
    "end"
   ]
  },
  {
   "cell_type": "code",
   "execution_count": null,
   "metadata": {},
   "outputs": [],
   "source": []
  }
 ],
 "metadata": {
  "kernelspec": {
   "display_name": "Julia 1.7.2",
   "language": "julia",
   "name": "julia-1.7"
  },
  "language_info": {
   "file_extension": ".jl",
   "mimetype": "application/julia",
   "name": "julia",
   "version": "1.7.2"
  }
 },
 "nbformat": 4,
 "nbformat_minor": 4
}

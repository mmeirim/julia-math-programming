{
 "cells": [
  {
   "cell_type": "markdown",
   "metadata": {},
   "source": [
    "Instalação (rodar apenas uma vez):"
   ]
  },
  {
   "cell_type": "code",
   "execution_count": 1,
   "metadata": {
    "tags": []
   },
   "outputs": [
    {
     "name": "stderr",
     "output_type": "stream",
     "text": [
      "\u001b[32m\u001b[1m    Updating\u001b[22m\u001b[39m git-repo `https://github.com/rafaelmartinelli/AssignmentProblems.jl`\n",
      "\u001b[32m\u001b[1m    Updating\u001b[22m\u001b[39m registry at `C:\\Users\\mmeir\\.julia\\registries\\General`\n",
      "\u001b[32m\u001b[1m    Updating\u001b[22m\u001b[39m git-repo `https://github.com/JuliaRegistries/General.git`\n",
      "\u001b[32m\u001b[1m   Resolving\u001b[22m\u001b[39m package versions...\n",
      "\u001b[32m\u001b[1m    Updating\u001b[22m\u001b[39m `C:\\Users\\mmeir\\.julia\\environments\\v1.6\\Project.toml`\n",
      " \u001b[90m [0ddd3828] \u001b[39m\u001b[93m~ AssignmentProblems v1.0.0 `https://github.com/rafaelmartinelli/AssignmentProblems.jl#main` ⇒ v1.0.0 `https://github.com/rafaelmartinelli/AssignmentProblems.jl#main`\u001b[39m\n",
      "\u001b[32m\u001b[1m    Updating\u001b[22m\u001b[39m `C:\\Users\\mmeir\\.julia\\environments\\v1.6\\Manifest.toml`\n",
      " \u001b[90m [0ddd3828] \u001b[39m\u001b[93m~ AssignmentProblems v1.0.0 `https://github.com/rafaelmartinelli/AssignmentProblems.jl#main` ⇒ v1.0.0 `https://github.com/rafaelmartinelli/AssignmentProblems.jl#main`\u001b[39m\n",
      "\u001b[32m\u001b[1mPrecompiling\u001b[22m\u001b[39m project...\n",
      "\u001b[32m  ✓ \u001b[39mAssignmentProblems\n",
      "1 dependency successfully precompiled in 9 seconds (241 already precompiled, 9 skipped during auto due to previous errors)\n"
     ]
    }
   ],
   "source": [
    "] add https://github.com/rafaelmartinelli/AssignmentProblems.jl"
   ]
  },
  {
   "cell_type": "markdown",
   "metadata": {},
   "source": [
    "Carregamento de instância:"
   ]
  },
  {
   "cell_type": "code",
   "execution_count": 17,
   "metadata": {},
   "outputs": [
    {
     "data": {
      "text/plain": [
       "GAP Data a05100 (5 agents, 100 jobs) [1698, 1698]"
      ]
     },
     "execution_count": 17,
     "metadata": {},
     "output_type": "execute_result"
    }
   ],
   "source": [
    "using AssignmentProblems, JuMP, Gurobi\n",
    "\n",
    "datat = loadAssignmentProblem(:c0515_2)\n",
    "datat = loadAssignmentProblem(:a05100)"
   ]
  },
  {
   "cell_type": "markdown",
   "metadata": {},
   "source": [
    "Sugestão de estrutura de testes:"
   ]
  },
  {
   "cell_type": "code",
   "execution_count": 20,
   "metadata": {},
   "outputs": [
    {
     "name": "stdout",
     "output_type": "stream",
     "text": [
      "Academic license - for non-commercial use only - expires 2022-08-07\n",
      "Gurobi Optimizer version 9.1.2 build v9.1.2rc0 (win64)\n",
      "Thread count: 4 physical cores, 8 logical processors, using up to 1 threads\n",
      "Optimize a model with 105 rows, 500 columns and 1000 nonzeros\n",
      "Model fingerprint: 0xd3debb9b\n",
      "Variable types: 0 continuous, 500 integer (500 binary)\n",
      "Coefficient statistics:\n",
      "  Matrix range     [1e+00, 3e+01]\n",
      "  Objective range  [1e+01, 5e+01]\n",
      "  Bounds range     [0e+00, 0e+00]\n",
      "  RHS range        [1e+00, 3e+02]\n",
      "Found heuristic solution: objective 3035.0000000\n",
      "Presolve time: 0.00s\n",
      "Presolved: 105 rows, 500 columns, 1000 nonzeros\n",
      "Variable types: 0 continuous, 500 integer (500 binary)\n",
      "\n",
      "Root relaxation: objective 1.697727e+03, 101 iterations, 0.00 seconds\n",
      "\n",
      "    Nodes    |    Current Node    |     Objective Bounds      |     Work\n",
      " Expl Unexpl |  Obj  Depth IntInf | Incumbent    BestBd   Gap | It/Node Time\n",
      "\n",
      "     0     0 1697.72727    0    2 3035.00000 1697.72727  44.1%     -    0s\n",
      "H    0     0                    1698.0000000 1697.72727  0.02%     -    0s\n",
      "     0     0 1697.72727    0    2 1698.00000 1697.72727  0.02%     -    0s\n",
      "\n",
      "Explored 1 nodes (101 simplex iterations) in 0.00 seconds\n",
      "Thread count was 1 (of 8 available processors)\n",
      "\n",
      "Solution count 2: 1698 3035 \n",
      "\n",
      "Optimal solution found (tolerance 1.00e-04)\n",
      "Best objective 1.698000000000e+03, best bound 1.698000000000e+03, gap 0.0000%\n",
      "\n",
      "User-callback calls 42, time in user-callback 0.00 sec\n",
      "(1698.0, 1698.0, 0.004999876022338867)\n"
     ]
    }
   ],
   "source": [
    "function resolveGAP(data::AssignmentProblem)\n",
    "    model = Model(optimizer_with_attributes(Gurobi.Optimizer, \"Threads\" => 1))\n",
    "    set_time_limit_sec(model, 300.0)\n",
    "    \n",
    "    #resolve o modelo\n",
    "    @variable(model, x[m in 1:na(data), j in 1:nj(data)], Bin);\n",
    "    @constraint(model, cov[j in 1:nj(data)], sum(x[m, j] for m in 1:na(data)) >= 1);\n",
    "    @constraint(model, knp[m in 1:na(data)], sum(data.consumptions[m, j] * x[m, j] for j in 1:nj(data)) <= data.capacities[m]);\n",
    "    @objective(model, Min, sum(data.costs[m, j] * x[m, j] for m in 1:na(data), j in 1:nj(data)));\n",
    "    \n",
    "    t = time()\n",
    "    optimize!(model)\n",
    "    dt = time() - t\n",
    "    \n",
    "    lb = objective_bound(model)\n",
    "    ub = objective_value(model)    \n",
    "    return lb, ub, dt\n",
    "end\n",
    "\n",
    "instancias = [\n",
    "    \"a05100\"\n",
    "]\n",
    "\n",
    "for instancia in instancias\n",
    "    data = loadAssignmentProblem(Symbol(instancia))\n",
    "    println(resolveGAP(data))\n",
    "end"
   ]
  }
 ],
 "metadata": {
  "kernelspec": {
   "display_name": "Julia 1.6.0",
   "language": "julia",
   "name": "julia-1.6"
  },
  "language_info": {
   "file_extension": ".jl",
   "mimetype": "application/julia",
   "name": "julia",
   "version": "1.6.0"
  }
 },
 "nbformat": 4,
 "nbformat_minor": 4
}
